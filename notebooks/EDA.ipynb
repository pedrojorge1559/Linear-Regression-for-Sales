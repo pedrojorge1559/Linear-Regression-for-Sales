{
  "cells": [
    {
      "cell_type": "markdown",
      "metadata": {
        "id": "7_yf6LVk7l6A"
      },
      "source": [
        "# Introdução\n",
        "\n",
        "Neste projeto, propomos a aplicação de técnicas de **regressão linear** para prever os faturamentos futuros com base em dados históricos. A análise será realizada utilizando um conjunto de dados disponível no [Kaggle](https://www.kaggle.com/datasets/neuronlab/vendas-mensais), que contém informações sobre vendas mensais.\n",
        "\n",
        "A **regressão linear** é uma ferramenta poderosa em modelagem preditiva, permitindo que identifiquemos relações entre variáveis e façamos previsões com base em dados passados. Neste notebook, exploraremos o dataset, realizaremos uma **análise exploratória dos dados (EDA)** e aplicaremos o modelo de regressão linear para prever os faturamentos futuros.\n",
        "\n",
        "Através deste experimento, buscamos não apenas entender o comportamento das vendas ao longo do tempo, mas também fornecer **insights** que podem auxiliar na tomada de decisões estratégicas para o negócio. Vamos começar nossa jornada de análise e predição."
      ]
    },
    {
      "cell_type": "code",
      "execution_count": 41,
      "metadata": {
        "id": "e8x8sSHM7jqL"
      },
      "outputs": [],
      "source": [
        "import pandas as pd\n",
        "import seaborn as sns\n",
        "import matplotlib.pyplot as plt\n",
        "from sklearn.model_selection import train_test_split\n",
        "data = pd.read_csv('d:/project_hub/Linear-Regression for sales/input/VendasMensais.csv')\n",
        "\n",
        "import sys\n",
        "sys.path.append('d:/project_hub/Linear-Regression for sales')\n",
        "from src.eda_utils import *\n"
      ]
    },
    {
      "cell_type": "markdown",
      "metadata": {
        "id": "61oxMcfu8zE9"
      },
      "source": [
        "# Mensuração do DataFrame\n",
        "\n",
        "Na etapa presente, realizamos a mensuração do DataFrame, observando suas dimensões (altura x largura), os tipos de dados presentes e os nomes das colunas. Essa análise inicial é fundamental para entender a estrutura dos dados e garantir que estamos lidando com as informações corretas.\n",
        "\n",
        "- **Dimensões do DataFrame**: O DataFrame possui uma dimensão de **HxW**, onde H representa o número de linhas (entradas) e W representa o número de colunas (variáveis). Essa informação nos dá uma ideia da quantidade de dados disponíveis para análise.\n",
        "\n",
        "- **Tipos de Dados**: Analisamos os tipos de dados presentes em cada coluna, o que é crucial para determinar como cada variável pode ser manipulada e analisada. Por exemplo, colunas numéricas podem ser utilizadas em cálculos, enquanto colunas de texto podem exigir processamento adicional.\n",
        "\n",
        "- **Nomes das Colunas**: Os nomes das colunas são essenciais para a identificação das variáveis no conjunto de dados. Ter nomes claros e descritivos facilita a interpretação dos dados e a aplicação de técnicas de análise."
      ]
    },
    {
      "cell_type": "code",
      "execution_count": 42,
      "metadata": {
        "id": "DxUWBtI97jqN",
        "outputId": "f14d32e8-b38e-4bc3-cbe3-bd0df4e1358e"
      },
      "outputs": [
        {
          "name": "stdout",
          "output_type": "stream",
          "text": [
            "<class 'pandas.core.frame.DataFrame'>\n",
            "RangeIndex: 64 entries, 0 to 63\n",
            "Data columns (total 5 columns):\n",
            " #   Column                                    Non-Null Count  Dtype  \n",
            "---  ------                                    --------------  -----  \n",
            " 0   Period                                    64 non-null     object \n",
            " 1   Revenue                                   64 non-null     float64\n",
            " 2   Sales_quantity                            64 non-null     int64  \n",
            " 3   Average_cost                              64 non-null     float64\n",
            " 4   The_average_annual_payroll_of_the_region  64 non-null     int64  \n",
            "dtypes: float64(2), int64(2), object(1)\n",
            "memory usage: 2.6+ KB\n"
          ]
        }
      ],
      "source": [
        "data.info()"
      ]
    },
    {
      "cell_type": "markdown",
      "metadata": {
        "id": "A6QqBtCA9Ok2"
      },
      "source": [
        "# Análise Inicial dos Dados\n",
        "\n",
        "Ao examinarmos as primeiras linhas do DataFrame utilizando o método `head()`, buscamos identificar possíveis dados faltantes. Essa análise inicial é crucial para garantir a integridade dos dados antes de prosseguir com visualizações e modelagens.\n",
        "\n",
        "- **Identificação de Dados Faltantes**: Durante essa inspeção, notamos que a coluna **'Revenue'** se destaca. É importante observar que, para futuras visualizações, valores muito grandes podem dificultar a interpretação dos gráficos e análises."
      ]
    },
    {
      "cell_type": "code",
      "execution_count": 43,
      "metadata": {
        "id": "0h6CNbZ97jqN",
        "outputId": "c4c88d45-c006-4603-8b53-2574ff4fc7ab"
      },
      "outputs": [
        {
          "data": {
            "text/html": [
              "<div>\n",
              "<style scoped>\n",
              "    .dataframe tbody tr th:only-of-type {\n",
              "        vertical-align: middle;\n",
              "    }\n",
              "\n",
              "    .dataframe tbody tr th {\n",
              "        vertical-align: top;\n",
              "    }\n",
              "\n",
              "    .dataframe thead th {\n",
              "        text-align: right;\n",
              "    }\n",
              "</style>\n",
              "<table border=\"1\" class=\"dataframe\">\n",
              "  <thead>\n",
              "    <tr style=\"text-align: right;\">\n",
              "      <th></th>\n",
              "      <th>Period</th>\n",
              "      <th>Revenue</th>\n",
              "      <th>Sales_quantity</th>\n",
              "      <th>Average_cost</th>\n",
              "      <th>The_average_annual_payroll_of_the_region</th>\n",
              "    </tr>\n",
              "  </thead>\n",
              "  <tbody>\n",
              "    <tr>\n",
              "      <th>0</th>\n",
              "      <td>01.01.2015</td>\n",
              "      <td>1.601007e+07</td>\n",
              "      <td>12729</td>\n",
              "      <td>1257.763541</td>\n",
              "      <td>30024676</td>\n",
              "    </tr>\n",
              "    <tr>\n",
              "      <th>1</th>\n",
              "      <td>01.02.2015</td>\n",
              "      <td>1.580759e+07</td>\n",
              "      <td>11636</td>\n",
              "      <td>1358.507000</td>\n",
              "      <td>30024676</td>\n",
              "    </tr>\n",
              "    <tr>\n",
              "      <th>2</th>\n",
              "      <td>01.03.2015</td>\n",
              "      <td>2.204715e+07</td>\n",
              "      <td>15922</td>\n",
              "      <td>1384.697024</td>\n",
              "      <td>30024676</td>\n",
              "    </tr>\n",
              "    <tr>\n",
              "      <th>3</th>\n",
              "      <td>01.04.2015</td>\n",
              "      <td>1.881458e+07</td>\n",
              "      <td>15227</td>\n",
              "      <td>1235.606705</td>\n",
              "      <td>30024676</td>\n",
              "    </tr>\n",
              "    <tr>\n",
              "      <th>4</th>\n",
              "      <td>01.05.2015</td>\n",
              "      <td>1.402148e+07</td>\n",
              "      <td>8620</td>\n",
              "      <td>1626.621765</td>\n",
              "      <td>30024676</td>\n",
              "    </tr>\n",
              "  </tbody>\n",
              "</table>\n",
              "</div>"
            ],
            "text/plain": [
              "       Period       Revenue  Sales_quantity  Average_cost  \\\n",
              "0  01.01.2015  1.601007e+07           12729   1257.763541   \n",
              "1  01.02.2015  1.580759e+07           11636   1358.507000   \n",
              "2  01.03.2015  2.204715e+07           15922   1384.697024   \n",
              "3  01.04.2015  1.881458e+07           15227   1235.606705   \n",
              "4  01.05.2015  1.402148e+07            8620   1626.621765   \n",
              "\n",
              "   The_average_annual_payroll_of_the_region  \n",
              "0                                  30024676  \n",
              "1                                  30024676  \n",
              "2                                  30024676  \n",
              "3                                  30024676  \n",
              "4                                  30024676  "
            ]
          },
          "execution_count": 43,
          "metadata": {},
          "output_type": "execute_result"
        }
      ],
      "source": [
        "data.head()"
      ]
    },
    {
      "cell_type": "markdown",
      "metadata": {
        "id": "nNk8agZS9w7E"
      },
      "source": [
        "# Identificação de Dados Faltantes\n",
        "\n",
        "Durante a análise inicial do DataFrame, identificamos a presença de dados faltantes na coluna **'Revenue'**. Essa descoberta é significativa, pois a ausência de valores nesta coluna pode impactar diretamente a qualidade das nossas análises e previsões.\n",
        "\n",
        "- **Importância da Coluna 'Revenue'**: Como a coluna 'Revenue' é a coluna de interesse da nossa análise, devemos manipular as linhas faltantes para que não afetem em nossas analises futuras.\n",
        "\n",
        "Essa identificação precoce de dados faltantes nos permite tomar medidas corretivas e assegurar que nossas análises subsequentes sejam baseadas em dados completos e confiáveis."
      ]
    },
    {
      "cell_type": "code",
      "execution_count": 44,
      "metadata": {
        "id": "AourloJK7jqN",
        "outputId": "60d33924-8535-449c-f151-1dd993b55247"
      },
      "outputs": [
        {
          "data": {
            "text/html": [
              "<div>\n",
              "<style scoped>\n",
              "    .dataframe tbody tr th:only-of-type {\n",
              "        vertical-align: middle;\n",
              "    }\n",
              "\n",
              "    .dataframe tbody tr th {\n",
              "        vertical-align: top;\n",
              "    }\n",
              "\n",
              "    .dataframe thead th {\n",
              "        text-align: right;\n",
              "    }\n",
              "</style>\n",
              "<table border=\"1\" class=\"dataframe\">\n",
              "  <thead>\n",
              "    <tr style=\"text-align: right;\">\n",
              "      <th></th>\n",
              "      <th>Period</th>\n",
              "      <th>Revenue</th>\n",
              "      <th>Sales_quantity</th>\n",
              "      <th>Average_cost</th>\n",
              "      <th>The_average_annual_payroll_of_the_region</th>\n",
              "    </tr>\n",
              "  </thead>\n",
              "  <tbody>\n",
              "    <tr>\n",
              "      <th>59</th>\n",
              "      <td>01.12.2019</td>\n",
              "      <td>5.875647e+07</td>\n",
              "      <td>38069</td>\n",
              "      <td>1543.420464</td>\n",
              "      <td>29878525</td>\n",
              "    </tr>\n",
              "    <tr>\n",
              "      <th>60</th>\n",
              "      <td>01.01.2020</td>\n",
              "      <td>5.628830e+07</td>\n",
              "      <td>27184</td>\n",
              "      <td>2070.640850</td>\n",
              "      <td>29044998</td>\n",
              "    </tr>\n",
              "    <tr>\n",
              "      <th>61</th>\n",
              "      <td>01.02.2020</td>\n",
              "      <td>4.022524e+07</td>\n",
              "      <td>23509</td>\n",
              "      <td>1711.057181</td>\n",
              "      <td>29044998</td>\n",
              "    </tr>\n",
              "    <tr>\n",
              "      <th>62</th>\n",
              "      <td>01.03.2020</td>\n",
              "      <td>5.002217e+07</td>\n",
              "      <td>32569</td>\n",
              "      <td>1535.882748</td>\n",
              "      <td>29044998</td>\n",
              "    </tr>\n",
              "    <tr>\n",
              "      <th>63</th>\n",
              "      <td>01.04.2020</td>\n",
              "      <td>5.232069e+07</td>\n",
              "      <td>26615</td>\n",
              "      <td>1965.834790</td>\n",
              "      <td>29044998</td>\n",
              "    </tr>\n",
              "  </tbody>\n",
              "</table>\n",
              "</div>"
            ],
            "text/plain": [
              "        Period       Revenue  Sales_quantity  Average_cost  \\\n",
              "59  01.12.2019  5.875647e+07           38069   1543.420464   \n",
              "60  01.01.2020  5.628830e+07           27184   2070.640850   \n",
              "61  01.02.2020  4.022524e+07           23509   1711.057181   \n",
              "62  01.03.2020  5.002217e+07           32569   1535.882748   \n",
              "63  01.04.2020  5.232069e+07           26615   1965.834790   \n",
              "\n",
              "    The_average_annual_payroll_of_the_region  \n",
              "59                                  29878525  \n",
              "60                                  29044998  \n",
              "61                                  29044998  \n",
              "62                                  29044998  \n",
              "63                                  29044998  "
            ]
          },
          "execution_count": 44,
          "metadata": {},
          "output_type": "execute_result"
        }
      ],
      "source": [
        "data.tail()"
      ]
    },
    {
      "cell_type": "markdown",
      "metadata": {
        "id": "jxC_Ppqi9zkx"
      },
      "source": [
        "# Verificação de Outras Possíveis Problemas\n",
        "\n",
        "Antes de proceder com o tratamento dos dados, realizamos uma verificação adicional para identificar outras possíveis problematicas. Durante essa análise, identificamos a presença de **outliers** na coluna **'Sales_quantity'**.\n",
        "\n",
        "- **Identificação de Outliers**: Os outliers são valores que se desviam significativamente do padrão geral dos dados. Embora tenhamos encontrado outliers na coluna 'Sales_quantity', é importante ressaltar que, neste caso, eles não representam uma ameaça ao projeto."
      ]
    },
    {
      "cell_type": "code",
      "execution_count": 45,
      "metadata": {
        "id": "7Tovp3-N7jqO",
        "outputId": "f3fc0edf-cc1a-4bc2-90de-f7090ffe2047"
      },
      "outputs": [
        {
          "data": {
            "image/png": "[encoded data removed]",
            "text/plain": [
              "<Figure size 1000x600 with 1 Axes>"
            ]
          },
          "metadata": {},
          "output_type": "display_data"
        },
        {
          "data": {
            "image/png": "[encoded data removed]",
            "text/plain": [
              "<Figure size 1000x600 with 1 Axes>"
            ]
          },
          "metadata": {},
          "output_type": "display_data"
        },
        {
          "data": {
            "image/png": "[encoded data removed]",
            "text/plain": [
              "<Figure size 1000x600 with 1 Axes>"
            ]
          },
          "metadata": {},
          "output_type": "display_data"
        },
        {
          "data": {
            "image/png": "[encoded data removed]",
            "text/plain": [
              "<Figure size 1000x600 with 1 Axes>"
            ]
          },
          "metadata": {},
          "output_type": "display_data"
        },
        {
          "name": "stdout",
          "output_type": "stream",
          "text": [
            "There are 2 outliers in the dataset.\n",
            "\n",
            "Number (percentage) of outliers per feature: \n",
            "\n",
            "Revenue: 0 (0.0)%\n",
            "Sales_quantity: 1 (1.56)%\n",
            "Average_cost: 1 (1.56)%\n",
            "The_average_annual_payroll_of_the_region: 0 (0.0)%\n"
          ]
        },
        {
          "data": {
            "text/plain": [
              "({'Revenue': [],\n",
              "  'Sales_quantity': [59],\n",
              "  'Average_cost': [55],\n",
              "  'The_average_annual_payroll_of_the_region': []},\n",
              " {'Revenue': 0,\n",
              "  'Sales_quantity': 1,\n",
              "  'Average_cost': 1,\n",
              "  'The_average_annual_payroll_of_the_region': 0},\n",
              " 2)"
            ]
          },
          "execution_count": 45,
          "metadata": {},
          "output_type": "execute_result"
        }
      ],
      "source": [
        "check_outliers(data, features= ['Revenue', 'Sales_quantity', 'Average_cost', 'The_average_annual_payroll_of_the_region'], visualize=True)"
      ]
    },
    {
      "cell_type": "markdown",
      "metadata": {},
      "source": [
        "# Análise de Dispersão: Quantidade de Vendas e Custo Médio vs Receita\n",
        "Neste passo, criamos um gráfico de dispersão para analisar a relação entre a Quantidade de Vendas, o Custo Médio e a Receita. Essa análise é fundamental para entender como essas variáveis se relacionam e como podem impactar a Receita. \n",
        "- Ao analisar o gráfico, podemos observar que há uma correlação positiva entre a Quantidade de Vendas e a Receita, o que é esperado. Além disso, o Custo Médio também parece ter uma influência na Receita, embora menos pronunciada.\n",
        " \n",
        "- Esta análise é crucial para identificar padrões e relacionamentos entre as variáveis, o que pode ajudar a informar decisões futuras sobre como otimizar a Receita. Além disso, essa análise nos permite entender qual variável devemos usar no nosso modelo para prever, que no caso, é a coluna Revenue.\n"
      ]
    },
    {
      "cell_type": "code",
      "execution_count": 48,
      "metadata": {},
      "outputs": [
        {
          "data": {
            "image/png": "[encoded data removed]",
            "text/plain": [
              "<Figure size 1000x600 with 1 Axes>"
            ]
          },
          "metadata": {},
          "output_type": "display_data"
        }
      ],
      "source": [
        "plt.figure(figsize=(10, 6))\n",
        "sns.scatterplot(data=data, x='Sales_quantity', y='Revenue', hue='Average_cost', size='Average_cost', sizes=(20, 200), alpha=0.6)\n",
        "plt.title('Gráfico de Dispersão: Quantidade de Vendas e Custo Médio vs Receita')\n",
        "plt.xlabel('Quantidade de Vendas')\n",
        "plt.ylabel('Receita')\n",
        "plt.legend(title='Custo Médio', bbox_to_anchor=(1.05, 1), loc='upper left')\n",
        "plt.show()"
      ]
    },
    {
      "cell_type": "markdown",
      "metadata": {
        "id": "kvv9-34G-HgW"
      },
      "source": [
        "# Tratamento de Dados Faltantes\n",
        "\n",
        "Neste passo, realizamos o filtro dos dados para identificar células com valores nulos. A presença de valores nulos pode comprometer a análise e a eficácia dos modelos preditivos, por isso é fundamental tratá-los adequadamente.\n",
        "\n",
        "- **Identificação de Valores Nulos**: Utilizamos um filtro para identificação dos valores nulos no dataframe.\n",
        "\n",
        "- **Exclusão de Linhas**: Após a identificação, optamos por excluir as linhas que contêm valores nulos. Essa abordagem é válida quando a quantidade de dados faltantes é pequena em relação ao total, garantindo que a integridade da análise não seja comprometida."
      ]
    },
    {
      "cell_type": "code",
      "execution_count": 49,
      "metadata": {
        "id": "KVjMwlWo7jqO",
        "outputId": "7e2d9956-e4c3-4ece-ec23-a6899ad33156"
      },
      "outputs": [
        {
          "data": {
            "text/html": [
              "<div>\n",
              "<style scoped>\n",
              "    .dataframe tbody tr th:only-of-type {\n",
              "        vertical-align: middle;\n",
              "    }\n",
              "\n",
              "    .dataframe tbody tr th {\n",
              "        vertical-align: top;\n",
              "    }\n",
              "\n",
              "    .dataframe thead th {\n",
              "        text-align: right;\n",
              "    }\n",
              "</style>\n",
              "<table border=\"1\" class=\"dataframe\">\n",
              "  <thead>\n",
              "    <tr style=\"text-align: right;\">\n",
              "      <th></th>\n",
              "      <th>Period</th>\n",
              "      <th>Revenue</th>\n",
              "      <th>Sales_quantity</th>\n",
              "      <th>Average_cost</th>\n",
              "      <th>The_average_annual_payroll_of_the_region</th>\n",
              "    </tr>\n",
              "  </thead>\n",
              "  <tbody>\n",
              "    <tr>\n",
              "      <th>59</th>\n",
              "      <td>01.12.2019</td>\n",
              "      <td>5.875647e+07</td>\n",
              "      <td>38069</td>\n",
              "      <td>1543.420464</td>\n",
              "      <td>29878525</td>\n",
              "    </tr>\n",
              "    <tr>\n",
              "      <th>60</th>\n",
              "      <td>01.01.2020</td>\n",
              "      <td>5.628830e+07</td>\n",
              "      <td>27184</td>\n",
              "      <td>2070.640850</td>\n",
              "      <td>29044998</td>\n",
              "    </tr>\n",
              "    <tr>\n",
              "      <th>61</th>\n",
              "      <td>01.02.2020</td>\n",
              "      <td>4.022524e+07</td>\n",
              "      <td>23509</td>\n",
              "      <td>1711.057181</td>\n",
              "      <td>29044998</td>\n",
              "    </tr>\n",
              "    <tr>\n",
              "      <th>62</th>\n",
              "      <td>01.03.2020</td>\n",
              "      <td>5.002217e+07</td>\n",
              "      <td>32569</td>\n",
              "      <td>1535.882748</td>\n",
              "      <td>29044998</td>\n",
              "    </tr>\n",
              "    <tr>\n",
              "      <th>63</th>\n",
              "      <td>01.04.2020</td>\n",
              "      <td>5.232069e+07</td>\n",
              "      <td>26615</td>\n",
              "      <td>1965.834790</td>\n",
              "      <td>29044998</td>\n",
              "    </tr>\n",
              "  </tbody>\n",
              "</table>\n",
              "</div>"
            ],
            "text/plain": [
              "        Period       Revenue  Sales_quantity  Average_cost  \\\n",
              "59  01.12.2019  5.875647e+07           38069   1543.420464   \n",
              "60  01.01.2020  5.628830e+07           27184   2070.640850   \n",
              "61  01.02.2020  4.022524e+07           23509   1711.057181   \n",
              "62  01.03.2020  5.002217e+07           32569   1535.882748   \n",
              "63  01.04.2020  5.232069e+07           26615   1965.834790   \n",
              "\n",
              "    The_average_annual_payroll_of_the_region  \n",
              "59                                  29878525  \n",
              "60                                  29044998  \n",
              "61                                  29044998  \n",
              "62                                  29044998  \n",
              "63                                  29044998  "
            ]
          },
          "execution_count": 49,
          "metadata": {},
          "output_type": "execute_result"
        }
      ],
      "source": [
        "if data.isnull().any().any():\n",
        "    data = data.dropna()\n",
        "data.tail()"
      ]
    },
    {
      "cell_type": "markdown",
      "metadata": {
        "id": "WXVe5AZ8-P8t"
      },
      "source": [
        "# Normalização dos Dados\n",
        "\n",
        "Neste passo, aplicamos um laço para normalizar todos os números do tipo **float** presentes no DataFrame. Essa normalização é realizada através da criação de uma escala de **1/1000**, com o objetivo de facilitar a visualização futura dos resultados."
      ]
    },
    {
      "cell_type": "code",
      "execution_count": 50,
      "metadata": {
        "id": "F-xa-bTv7jqO",
        "outputId": "8246041b-8997-4fed-e38d-a4b265caaaee"
      },
      "outputs": [
        {
          "data": {
            "text/html": [
              "<div>\n",
              "<style scoped>\n",
              "    .dataframe tbody tr th:only-of-type {\n",
              "        vertical-align: middle;\n",
              "    }\n",
              "\n",
              "    .dataframe tbody tr th {\n",
              "        vertical-align: top;\n",
              "    }\n",
              "\n",
              "    .dataframe thead th {\n",
              "        text-align: right;\n",
              "    }\n",
              "</style>\n",
              "<table border=\"1\" class=\"dataframe\">\n",
              "  <thead>\n",
              "    <tr style=\"text-align: right;\">\n",
              "      <th></th>\n",
              "      <th>Period</th>\n",
              "      <th>Revenue</th>\n",
              "      <th>Sales_quantity</th>\n",
              "      <th>Average_cost</th>\n",
              "      <th>The_average_annual_payroll_of_the_region</th>\n",
              "    </tr>\n",
              "  </thead>\n",
              "  <tbody>\n",
              "    <tr>\n",
              "      <th>0</th>\n",
              "      <td>01.01.2015</td>\n",
              "      <td>16010.072120</td>\n",
              "      <td>12729</td>\n",
              "      <td>1.257764</td>\n",
              "      <td>30024676</td>\n",
              "    </tr>\n",
              "    <tr>\n",
              "      <th>1</th>\n",
              "      <td>01.02.2015</td>\n",
              "      <td>15807.587450</td>\n",
              "      <td>11636</td>\n",
              "      <td>1.358507</td>\n",
              "      <td>30024676</td>\n",
              "    </tr>\n",
              "    <tr>\n",
              "      <th>2</th>\n",
              "      <td>01.03.2015</td>\n",
              "      <td>22047.146024</td>\n",
              "      <td>15922</td>\n",
              "      <td>1.384697</td>\n",
              "      <td>30024676</td>\n",
              "    </tr>\n",
              "    <tr>\n",
              "      <th>3</th>\n",
              "      <td>01.04.2015</td>\n",
              "      <td>18814.583294</td>\n",
              "      <td>15227</td>\n",
              "      <td>1.235607</td>\n",
              "      <td>30024676</td>\n",
              "    </tr>\n",
              "    <tr>\n",
              "      <th>4</th>\n",
              "      <td>01.05.2015</td>\n",
              "      <td>14021.479612</td>\n",
              "      <td>8620</td>\n",
              "      <td>1.626622</td>\n",
              "      <td>30024676</td>\n",
              "    </tr>\n",
              "  </tbody>\n",
              "</table>\n",
              "</div>"
            ],
            "text/plain": [
              "       Period       Revenue  Sales_quantity  Average_cost  \\\n",
              "0  01.01.2015  16010.072120           12729      1.257764   \n",
              "1  01.02.2015  15807.587450           11636      1.358507   \n",
              "2  01.03.2015  22047.146024           15922      1.384697   \n",
              "3  01.04.2015  18814.583294           15227      1.235607   \n",
              "4  01.05.2015  14021.479612            8620      1.626622   \n",
              "\n",
              "   The_average_annual_payroll_of_the_region  \n",
              "0                                  30024676  \n",
              "1                                  30024676  \n",
              "2                                  30024676  \n",
              "3                                  30024676  \n",
              "4                                  30024676  "
            ]
          },
          "execution_count": 50,
          "metadata": {},
          "output_type": "execute_result"
        }
      ],
      "source": [
        "for float in data.columns:\n",
        "    if data[float].dtype == 'float64':\n",
        "        data[float] = data[float] / 1000\n",
        "data.head()\n"
      ]
    },
    {
      "cell_type": "markdown",
      "metadata": {
        "id": "qyvnnT8l-bCo"
      },
      "source": [
        "# Redução das Casas Decimais\n",
        "\n",
        "realizamos a redução das casas decimais dos valores do tipo **float** presentes no DataFrame. Essa ação é importante para melhorar a legibilidade dos dados e facilitar a interpretação dos resultados."
      ]
    },
    {
      "cell_type": "code",
      "execution_count": 51,
      "metadata": {
        "id": "YbXck3R67jqO",
        "outputId": "e57d4537-26a9-43c7-bb7c-89bd44fb98b2"
      },
      "outputs": [
        {
          "data": {
            "text/html": [
              "<div>\n",
              "<style scoped>\n",
              "    .dataframe tbody tr th:only-of-type {\n",
              "        vertical-align: middle;\n",
              "    }\n",
              "\n",
              "    .dataframe tbody tr th {\n",
              "        vertical-align: top;\n",
              "    }\n",
              "\n",
              "    .dataframe thead th {\n",
              "        text-align: right;\n",
              "    }\n",
              "</style>\n",
              "<table border=\"1\" class=\"dataframe\">\n",
              "  <thead>\n",
              "    <tr style=\"text-align: right;\">\n",
              "      <th></th>\n",
              "      <th>Period</th>\n",
              "      <th>Revenue</th>\n",
              "      <th>Sales_quantity</th>\n",
              "      <th>Average_cost</th>\n",
              "      <th>The_average_annual_payroll_of_the_region</th>\n",
              "    </tr>\n",
              "  </thead>\n",
              "  <tbody>\n",
              "    <tr>\n",
              "      <th>0</th>\n",
              "      <td>01.01.2015</td>\n",
              "      <td>16010.07</td>\n",
              "      <td>12729</td>\n",
              "      <td>1.26</td>\n",
              "      <td>30024676</td>\n",
              "    </tr>\n",
              "    <tr>\n",
              "      <th>1</th>\n",
              "      <td>01.02.2015</td>\n",
              "      <td>15807.59</td>\n",
              "      <td>11636</td>\n",
              "      <td>1.36</td>\n",
              "      <td>30024676</td>\n",
              "    </tr>\n",
              "    <tr>\n",
              "      <th>2</th>\n",
              "      <td>01.03.2015</td>\n",
              "      <td>22047.15</td>\n",
              "      <td>15922</td>\n",
              "      <td>1.38</td>\n",
              "      <td>30024676</td>\n",
              "    </tr>\n",
              "    <tr>\n",
              "      <th>3</th>\n",
              "      <td>01.04.2015</td>\n",
              "      <td>18814.58</td>\n",
              "      <td>15227</td>\n",
              "      <td>1.24</td>\n",
              "      <td>30024676</td>\n",
              "    </tr>\n",
              "    <tr>\n",
              "      <th>4</th>\n",
              "      <td>01.05.2015</td>\n",
              "      <td>14021.48</td>\n",
              "      <td>8620</td>\n",
              "      <td>1.63</td>\n",
              "      <td>30024676</td>\n",
              "    </tr>\n",
              "  </tbody>\n",
              "</table>\n",
              "</div>"
            ],
            "text/plain": [
              "       Period   Revenue  Sales_quantity  Average_cost  \\\n",
              "0  01.01.2015  16010.07           12729          1.26   \n",
              "1  01.02.2015  15807.59           11636          1.36   \n",
              "2  01.03.2015  22047.15           15922          1.38   \n",
              "3  01.04.2015  18814.58           15227          1.24   \n",
              "4  01.05.2015  14021.48            8620          1.63   \n",
              "\n",
              "   The_average_annual_payroll_of_the_region  \n",
              "0                                  30024676  \n",
              "1                                  30024676  \n",
              "2                                  30024676  \n",
              "3                                  30024676  \n",
              "4                                  30024676  "
            ]
          },
          "execution_count": 51,
          "metadata": {},
          "output_type": "execute_result"
        }
      ],
      "source": [
        "for float in data.columns:\n",
        "    if data[float].dtype == 'float64':\n",
        "        data[float] = data[float].apply(lambda x: round(x, 2))\n",
        "data.head()"
      ]
    },
    {
      "cell_type": "markdown",
      "metadata": {
        "id": "nZFKjz-9-moN"
      },
      "source": [
        "# Formatação da Coluna 'Sales_quantity' para int64\n",
        "Mudando o tipo do dado da coluna 'Sales_quantity' para int."
      ]
    },
    {
      "cell_type": "code",
      "execution_count": 52,
      "metadata": {
        "id": "FbFlLH-27jqP",
        "outputId": "28cfd56a-bb41-4470-f2c0-8066683f6347"
      },
      "outputs": [
        {
          "data": {
            "text/html": [
              "<div>\n",
              "<style scoped>\n",
              "    .dataframe tbody tr th:only-of-type {\n",
              "        vertical-align: middle;\n",
              "    }\n",
              "\n",
              "    .dataframe tbody tr th {\n",
              "        vertical-align: top;\n",
              "    }\n",
              "\n",
              "    .dataframe thead th {\n",
              "        text-align: right;\n",
              "    }\n",
              "</style>\n",
              "<table border=\"1\" class=\"dataframe\">\n",
              "  <thead>\n",
              "    <tr style=\"text-align: right;\">\n",
              "      <th></th>\n",
              "      <th>Period</th>\n",
              "      <th>Revenue</th>\n",
              "      <th>Sales_quantity</th>\n",
              "      <th>Average_cost</th>\n",
              "      <th>The_average_annual_payroll_of_the_region</th>\n",
              "    </tr>\n",
              "  </thead>\n",
              "  <tbody>\n",
              "    <tr>\n",
              "      <th>0</th>\n",
              "      <td>01.01.2015</td>\n",
              "      <td>16010.07</td>\n",
              "      <td>12729</td>\n",
              "      <td>1.26</td>\n",
              "      <td>30024676</td>\n",
              "    </tr>\n",
              "    <tr>\n",
              "      <th>1</th>\n",
              "      <td>01.02.2015</td>\n",
              "      <td>15807.59</td>\n",
              "      <td>11636</td>\n",
              "      <td>1.36</td>\n",
              "      <td>30024676</td>\n",
              "    </tr>\n",
              "    <tr>\n",
              "      <th>2</th>\n",
              "      <td>01.03.2015</td>\n",
              "      <td>22047.15</td>\n",
              "      <td>15922</td>\n",
              "      <td>1.38</td>\n",
              "      <td>30024676</td>\n",
              "    </tr>\n",
              "    <tr>\n",
              "      <th>3</th>\n",
              "      <td>01.04.2015</td>\n",
              "      <td>18814.58</td>\n",
              "      <td>15227</td>\n",
              "      <td>1.24</td>\n",
              "      <td>30024676</td>\n",
              "    </tr>\n",
              "    <tr>\n",
              "      <th>4</th>\n",
              "      <td>01.05.2015</td>\n",
              "      <td>14021.48</td>\n",
              "      <td>8620</td>\n",
              "      <td>1.63</td>\n",
              "      <td>30024676</td>\n",
              "    </tr>\n",
              "  </tbody>\n",
              "</table>\n",
              "</div>"
            ],
            "text/plain": [
              "       Period   Revenue  Sales_quantity  Average_cost  \\\n",
              "0  01.01.2015  16010.07           12729          1.26   \n",
              "1  01.02.2015  15807.59           11636          1.36   \n",
              "2  01.03.2015  22047.15           15922          1.38   \n",
              "3  01.04.2015  18814.58           15227          1.24   \n",
              "4  01.05.2015  14021.48            8620          1.63   \n",
              "\n",
              "   The_average_annual_payroll_of_the_region  \n",
              "0                                  30024676  \n",
              "1                                  30024676  \n",
              "2                                  30024676  \n",
              "3                                  30024676  \n",
              "4                                  30024676  "
            ]
          },
          "execution_count": 52,
          "metadata": {},
          "output_type": "execute_result"
        }
      ],
      "source": [
        "data['Sales_quantity'].dtype == 'int64'\n",
        "data.head()"
      ]
    },
    {
      "cell_type": "markdown",
      "metadata": {
        "id": "Fhx7sYbC_Fs0"
      },
      "source": [
        "# Formatação da Coluna 'Period' para Datetime\n",
        "\n",
        "Realizamos a formatação da coluna **'Period'** para o tipo de dado **datetime**.\n"
      ]
    },
    {
      "cell_type": "code",
      "execution_count": 53,
      "metadata": {
        "id": "SiZ3wenO7jqP",
        "outputId": "13cd1504-00ff-487d-8075-2eeb2c046a35"
      },
      "outputs": [
        {
          "data": {
            "text/html": [
              "<div>\n",
              "<style scoped>\n",
              "    .dataframe tbody tr th:only-of-type {\n",
              "        vertical-align: middle;\n",
              "    }\n",
              "\n",
              "    .dataframe tbody tr th {\n",
              "        vertical-align: top;\n",
              "    }\n",
              "\n",
              "    .dataframe thead th {\n",
              "        text-align: right;\n",
              "    }\n",
              "</style>\n",
              "<table border=\"1\" class=\"dataframe\">\n",
              "  <thead>\n",
              "    <tr style=\"text-align: right;\">\n",
              "      <th></th>\n",
              "      <th>Period</th>\n",
              "      <th>Revenue</th>\n",
              "      <th>Sales_quantity</th>\n",
              "      <th>Average_cost</th>\n",
              "      <th>The_average_annual_payroll_of_the_region</th>\n",
              "    </tr>\n",
              "  </thead>\n",
              "  <tbody>\n",
              "    <tr>\n",
              "      <th>0</th>\n",
              "      <td>2015-01-01</td>\n",
              "      <td>16010.07</td>\n",
              "      <td>12729</td>\n",
              "      <td>1.26</td>\n",
              "      <td>30024676</td>\n",
              "    </tr>\n",
              "    <tr>\n",
              "      <th>1</th>\n",
              "      <td>2015-02-01</td>\n",
              "      <td>15807.59</td>\n",
              "      <td>11636</td>\n",
              "      <td>1.36</td>\n",
              "      <td>30024676</td>\n",
              "    </tr>\n",
              "    <tr>\n",
              "      <th>2</th>\n",
              "      <td>2015-03-01</td>\n",
              "      <td>22047.15</td>\n",
              "      <td>15922</td>\n",
              "      <td>1.38</td>\n",
              "      <td>30024676</td>\n",
              "    </tr>\n",
              "    <tr>\n",
              "      <th>3</th>\n",
              "      <td>2015-04-01</td>\n",
              "      <td>18814.58</td>\n",
              "      <td>15227</td>\n",
              "      <td>1.24</td>\n",
              "      <td>30024676</td>\n",
              "    </tr>\n",
              "    <tr>\n",
              "      <th>4</th>\n",
              "      <td>2015-05-01</td>\n",
              "      <td>14021.48</td>\n",
              "      <td>8620</td>\n",
              "      <td>1.63</td>\n",
              "      <td>30024676</td>\n",
              "    </tr>\n",
              "  </tbody>\n",
              "</table>\n",
              "</div>"
            ],
            "text/plain": [
              "      Period   Revenue  Sales_quantity  Average_cost  \\\n",
              "0 2015-01-01  16010.07           12729          1.26   \n",
              "1 2015-02-01  15807.59           11636          1.36   \n",
              "2 2015-03-01  22047.15           15922          1.38   \n",
              "3 2015-04-01  18814.58           15227          1.24   \n",
              "4 2015-05-01  14021.48            8620          1.63   \n",
              "\n",
              "   The_average_annual_payroll_of_the_region  \n",
              "0                                  30024676  \n",
              "1                                  30024676  \n",
              "2                                  30024676  \n",
              "3                                  30024676  \n",
              "4                                  30024676  "
            ]
          },
          "execution_count": 53,
          "metadata": {},
          "output_type": "execute_result"
        }
      ],
      "source": [
        "data['Period'] = pd.to_datetime(data['Period'], format= '%d.%m.%Y')\n",
        "data.head()"
      ]
    },
    {
      "cell_type": "markdown",
      "metadata": {
        "id": "UDJaZTES_NHt"
      },
      "source": [
        "# Análise Descritiva dos Indicadores de Desempenho da Loja\n",
        "\n",
        "- **Revenue**: Podemos observar que a média da receita gerada pela loja é de **32,360.45**, o que nos dá uma ideia do ganho médio mensal. Além disso, a receita máxima já registrada foi de **58,756.47**, o que pode ser utilizado para comparar meses considerados 'bons' e 'ruins'. Essa informação é crucial para entender a performance da loja ao longo do tempo e identificar padrões de sazonalidade ou eventos que possam ter influenciado as vendas.\n",
        "\n",
        "- **Sales_quantity**: A média da quantidade de vendas é de **19,197.38** unidades por mês, com um mínimo de **8,314** e um máximo de **38,069**. Isso indica que, em média, a loja vende cerca de 19 mil unidades mensalmente, mas há meses em que as vendas podem ser significativamente menores ou maiores. Essa variação pode ser explorada para entender melhor os fatores que afetam a demanda.\n",
        "\n",
        "- **Average_cost**: O custo médio por unidade é de **1.70**, com um mínimo de **1.11** e um máximo de **2.56**. Essa informação é importante para calcular a margem de lucro e avaliar a eficiência operacional da loja. A variação nos custos pode indicar mudanças nos fornecedores ou nos preços de aquisição dos produtos.\n",
        "\n",
        "- **The_average_annual_payroll_of_the_region**: A média da folha de pagamento anual da região é de **28,690,829.63**, com um mínimo de **27,406,473.00** e um máximo de **30,024,676.00**. Essa métrica pode ser relevante para entender o poder aquisitivo da população local e como isso pode impactar as vendas da loja. Um aumento na folha de pagamento pode estar correlacionado a um aumento na demanda por produtos.\n",
        "\n",
        "Esses dados nos fornecem uma visão abrangente do desempenho da loja e podem ser utilizados para embasar decisões estratégicas, como ajustes de preços, promoções e planejamento de estoque."
      ]
    },
    {
      "cell_type": "code",
      "execution_count": 54,
      "metadata": {
        "colab": {
          "base_uri": "https://localhost:8080/",
          "height": 141
        },
        "id": "mm-t93aF7jqP",
        "outputId": "abf58631-221f-4968-9c05-e6cb7bc4fa01"
      },
      "outputs": [
        {
          "data": {
            "text/html": [
              "<div>\n",
              "<style scoped>\n",
              "    .dataframe tbody tr th:only-of-type {\n",
              "        vertical-align: middle;\n",
              "    }\n",
              "\n",
              "    .dataframe tbody tr th {\n",
              "        vertical-align: top;\n",
              "    }\n",
              "\n",
              "    .dataframe thead th {\n",
              "        text-align: right;\n",
              "    }\n",
              "</style>\n",
              "<table border=\"1\" class=\"dataframe\">\n",
              "  <thead>\n",
              "    <tr style=\"text-align: right;\">\n",
              "      <th></th>\n",
              "      <th>count</th>\n",
              "      <th>mean</th>\n",
              "      <th>min</th>\n",
              "      <th>25%</th>\n",
              "      <th>50%</th>\n",
              "      <th>75%</th>\n",
              "      <th>max</th>\n",
              "      <th>std</th>\n",
              "    </tr>\n",
              "  </thead>\n",
              "  <tbody>\n",
              "    <tr>\n",
              "      <th>Period</th>\n",
              "      <td>64</td>\n",
              "      <td>2017-08-16 03:45:00</td>\n",
              "      <td>2015-01-01 00:00:00</td>\n",
              "      <td>2016-04-23 12:00:00</td>\n",
              "      <td>2017-08-16 12:00:00</td>\n",
              "      <td>2018-12-08 18:00:00</td>\n",
              "      <td>2020-04-01 00:00:00</td>\n",
              "      <td>NaN</td>\n",
              "    </tr>\n",
              "    <tr>\n",
              "      <th>Revenue</th>\n",
              "      <td>64.0</td>\n",
              "      <td>32360.452812</td>\n",
              "      <td>14021.48</td>\n",
              "      <td>22426.545</td>\n",
              "      <td>32090.875</td>\n",
              "      <td>39929.9875</td>\n",
              "      <td>58756.47</td>\n",
              "      <td>11641.498776</td>\n",
              "    </tr>\n",
              "    <tr>\n",
              "      <th>Sales_quantity</th>\n",
              "      <td>64.0</td>\n",
              "      <td>19197.375</td>\n",
              "      <td>8314.0</td>\n",
              "      <td>15065.5</td>\n",
              "      <td>18368.0</td>\n",
              "      <td>22856.25</td>\n",
              "      <td>38069.0</td>\n",
              "      <td>6591.287257</td>\n",
              "    </tr>\n",
              "    <tr>\n",
              "      <th>Average_cost</th>\n",
              "      <td>64.0</td>\n",
              "      <td>1.695156</td>\n",
              "      <td>1.11</td>\n",
              "      <td>1.5</td>\n",
              "      <td>1.65</td>\n",
              "      <td>1.92</td>\n",
              "      <td>2.56</td>\n",
              "      <td>0.296926</td>\n",
              "    </tr>\n",
              "    <tr>\n",
              "      <th>The_average_annual_payroll_of_the_region</th>\n",
              "      <td>64.0</td>\n",
              "      <td>28690829.625</td>\n",
              "      <td>27406473.0</td>\n",
              "      <td>27828571.0</td>\n",
              "      <td>28197847.0</td>\n",
              "      <td>29878525.0</td>\n",
              "      <td>30024676.0</td>\n",
              "      <td>1057190.521818</td>\n",
              "    </tr>\n",
              "  </tbody>\n",
              "</table>\n",
              "</div>"
            ],
            "text/plain": [
              "                                         count                 mean  \\\n",
              "Period                                      64  2017-08-16 03:45:00   \n",
              "Revenue                                   64.0         32360.452812   \n",
              "Sales_quantity                            64.0            19197.375   \n",
              "Average_cost                              64.0             1.695156   \n",
              "The_average_annual_payroll_of_the_region  64.0         28690829.625   \n",
              "\n",
              "                                                          min  \\\n",
              "Period                                    2015-01-01 00:00:00   \n",
              "Revenue                                              14021.48   \n",
              "Sales_quantity                                         8314.0   \n",
              "Average_cost                                             1.11   \n",
              "The_average_annual_payroll_of_the_region           27406473.0   \n",
              "\n",
              "                                                          25%  \\\n",
              "Period                                    2016-04-23 12:00:00   \n",
              "Revenue                                             22426.545   \n",
              "Sales_quantity                                        15065.5   \n",
              "Average_cost                                              1.5   \n",
              "The_average_annual_payroll_of_the_region           27828571.0   \n",
              "\n",
              "                                                          50%  \\\n",
              "Period                                    2017-08-16 12:00:00   \n",
              "Revenue                                             32090.875   \n",
              "Sales_quantity                                        18368.0   \n",
              "Average_cost                                             1.65   \n",
              "The_average_annual_payroll_of_the_region           28197847.0   \n",
              "\n",
              "                                                          75%  \\\n",
              "Period                                    2018-12-08 18:00:00   \n",
              "Revenue                                            39929.9875   \n",
              "Sales_quantity                                       22856.25   \n",
              "Average_cost                                             1.92   \n",
              "The_average_annual_payroll_of_the_region           29878525.0   \n",
              "\n",
              "                                                          max             std  \n",
              "Period                                    2020-04-01 00:00:00             NaN  \n",
              "Revenue                                              58756.47    11641.498776  \n",
              "Sales_quantity                                        38069.0     6591.287257  \n",
              "Average_cost                                             2.56        0.296926  \n",
              "The_average_annual_payroll_of_the_region           30024676.0  1057190.521818  "
            ]
          },
          "execution_count": 54,
          "metadata": {},
          "output_type": "execute_result"
        }
      ],
      "source": [
        "data.describe().T"
      ]
    },
    {
      "cell_type": "code",
      "execution_count": 55,
      "metadata": {
        "id": "iGnX5bxi7jqQ"
      },
      "outputs": [],
      "source": [
        "data.to_csv('d:/project_hub/Linear-Regression for sales/input/VendasMensais_processed.csv', index=False)"
      ]
    }
  ],
  "metadata": {
    "colab": {
      "provenance": []
    },
    "kernelspec": {
      "display_name": "Python 3",
      "language": "python",
      "name": "python3"
    },
    "language_info": {
      "codemirror_mode": {
        "name": "ipython",
        "version": 3
      },
      "file_extension": ".py",
      "mimetype": "text/x-python",
      "name": "python",
      "nbconvert_exporter": "python",
      "pygments_lexer": "ipython3",
      "version": "3.12.7"
    }
  },
  "nbformat": 4,
  "nbformat_minor": 0
}
